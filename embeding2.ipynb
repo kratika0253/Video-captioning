{
  "nbformat": 4,
  "nbformat_minor": 0,
  "metadata": {
    "colab": {
      "name": "embeding2",
      "version": "0.3.2",
      "provenance": [],
      "collapsed_sections": []
    },
    "kernelspec": {
      "name": "python3",
      "display_name": "Python 3"
    }
  },
  "cells": [
    {
      "cell_type": "code",
      "metadata": {
        "id": "DHQK3NoiFaKA",
        "colab_type": "code",
        "colab": {}
      },
      "source": [
        "#!pip install keras==1.2.2"
      ],
      "execution_count": 0,
      "outputs": []
    },
    {
      "cell_type": "code",
      "metadata": {
        "id": "qJpi2tJfF5bs",
        "colab_type": "code",
        "outputId": "9f00c765-d62a-48c3-965c-d27576cd7fa5",
        "colab": {
          "base_uri": "https://localhost:8080/",
          "height": 154
        }
      },
      "source": [
        "#!pip install tensorflow==0.12.1\n",
        "from google.colab import drive\n",
        "drive.mount('/content/gdrive')\n",
        "%cd '/content/gdrive/My Drive/Sem 6/video captioning/testings/'"
      ],
      "execution_count": 0,
      "outputs": [
        {
          "output_type": "stream",
          "text": [
            "Go to this URL in a browser: https://accounts.google.com/o/oauth2/auth?client_id=947318989803-6bn6qk8qdgf4n4g3pfee6491hc0brc4i.apps.googleusercontent.com&redirect_uri=urn%3Aietf%3Awg%3Aoauth%3A2.0%3Aoob&scope=email%20https%3A%2F%2Fwww.googleapis.com%2Fauth%2Fdocs.test%20https%3A%2F%2Fwww.googleapis.com%2Fauth%2Fdrive%20https%3A%2F%2Fwww.googleapis.com%2Fauth%2Fdrive.photos.readonly%20https%3A%2F%2Fwww.googleapis.com%2Fauth%2Fpeopleapi.readonly&response_type=code\n",
            "\n",
            "Enter your authorization code:\n",
            "··········\n",
            "Mounted at /content/gdrive\n",
            "[Errno 2] No such file or directory: '/content/gdrive/My Drive/Sem 6/video captioning/testings/'\n",
            "/content\n"
          ],
          "name": "stdout"
        }
      ]
    },
    {
      "cell_type": "code",
      "metadata": {
        "id": "zlQplCBTGDr2",
        "colab_type": "code",
        "outputId": "d19afd80-d717-4b09-e0f4-e1e6c61a0a0c",
        "colab": {
          "base_uri": "https://localhost:8080/",
          "height": 34
        }
      },
      "source": [
        "import glob\n",
        "import numpy as np\n",
        "import matplotlib.pyplot as plt\n",
        "%matplotlib inline\n",
        "import pickle\n",
        "from tqdm import tqdm\n",
        "import pandas as pd\n",
        "from keras.preprocessing import sequence\n",
        "from keras.models import Sequential\n",
        "from keras.layers import LSTM, Embedding, TimeDistributed, Dense, RepeatVector, Activation, Flatten\n",
        "from keras.optimizers import Adam, RMSprop\n",
        "from keras.layers.wrappers import Bidirectional\n",
        "from keras.applications.inception_v3 import InceptionV3\n",
        "from keras.preprocessing import image\n",
        "import nltk"
      ],
      "execution_count": 0,
      "outputs": [
        {
          "output_type": "stream",
          "text": [
            "Using TensorFlow backend.\n"
          ],
          "name": "stderr"
        }
      ]
    },
    {
      "cell_type": "code",
      "metadata": {
        "id": "0IKzmJtZGLGy",
        "colab_type": "code",
        "colab": {}
      },
      "source": [
        "token = '/content/gdrive/My Drive/Sem 6/video_captioning/testings/Flickr8K_Text/Flickr8k.token.txt'"
      ],
      "execution_count": 0,
      "outputs": []
    },
    {
      "cell_type": "code",
      "metadata": {
        "id": "2NCwWFvXGRj_",
        "colab_type": "code",
        "colab": {}
      },
      "source": [
        "captions = open(token, 'r').read().strip().split('\\n')"
      ],
      "execution_count": 0,
      "outputs": []
    },
    {
      "cell_type": "code",
      "metadata": {
        "id": "sCmmglQ7GUrg",
        "colab_type": "code",
        "colab": {}
      },
      "source": [
        "d = {}\n",
        "for i, row in enumerate(captions):\n",
        "    row = row.split('\\t')\n",
        "    row[0] = row[0][:len(row[0])-2]\n",
        "    if row[0] in d:\n",
        "        d[row[0]].append(row[1])\n",
        "    else:\n",
        "        d[row[0]] = [row[1]]"
      ],
      "execution_count": 0,
      "outputs": []
    },
    {
      "cell_type": "code",
      "metadata": {
        "id": "GASIqzFOJ9JY",
        "colab_type": "code",
        "colab": {}
      },
      "source": [
        "images = '/content/gdrive/My Drive/Sem 6/video_captioning/testings/Flickr8K_Data/'"
      ],
      "execution_count": 0,
      "outputs": []
    },
    {
      "cell_type": "code",
      "metadata": {
        "id": "cyiIw07JKBQM",
        "colab_type": "code",
        "outputId": "84f42ca0-ccc5-4f4b-ec10-176c2679e25f",
        "colab": {
          "base_uri": "https://localhost:8080/",
          "height": 101
        }
      },
      "source": [
        "# Contains all the images\n",
        "img = glob.glob(images+'*.jpg')\n",
        "img[:5]               "
      ],
      "execution_count": 0,
      "outputs": [
        {
          "output_type": "execute_result",
          "data": {
            "text/plain": [
              "['/content/gdrive/My Drive/Sem 6/video_captioning/testings/Flickr8K_Data/2665461736_595c87f0a3.jpg',\n",
              " '/content/gdrive/My Drive/Sem 6/video_captioning/testings/Flickr8K_Data/3662871327_b128d25f04.jpg',\n",
              " '/content/gdrive/My Drive/Sem 6/video_captioning/testings/Flickr8K_Data/976392326_082dafc3c5.jpg',\n",
              " '/content/gdrive/My Drive/Sem 6/video_captioning/testings/Flickr8K_Data/3215117062_6e07a86352.jpg',\n",
              " '/content/gdrive/My Drive/Sem 6/video_captioning/testings/Flickr8K_Data/3286045254_696c6b15bd.jpg']"
            ]
          },
          "metadata": {
            "tags": []
          },
          "execution_count": 12
        }
      ]
    },
    {
      "cell_type": "code",
      "metadata": {
        "id": "Y-exYGK_KFTO",
        "colab_type": "code",
        "colab": {}
      },
      "source": [
        "train_images_file = '/content/gdrive/My Drive/Sem 6/video_captioning/testings/Flickr8K_Text/Flickr_8k.trainImages.txt'\n",
        "train_images = set(open(train_images_file, 'r').read().strip().split('\\n'))"
      ],
      "execution_count": 0,
      "outputs": []
    },
    {
      "cell_type": "code",
      "metadata": {
        "id": "enBOGzAcKLNQ",
        "colab_type": "code",
        "colab": {}
      },
      "source": [
        "def split_data(l):\n",
        "    temp = []\n",
        "    for i in img:\n",
        "        if i[len(images):] in l:\n",
        "            temp.append(i)\n",
        "    return temp"
      ],
      "execution_count": 0,
      "outputs": []
    },
    {
      "cell_type": "code",
      "metadata": {
        "id": "wzNBywCKKN-w",
        "colab_type": "code",
        "outputId": "ba8ae243-e30b-4e9f-de6c-961db6ea724f",
        "colab": {
          "base_uri": "https://localhost:8080/",
          "height": 34
        }
      },
      "source": [
        "train_img = split_data(train_images)\n",
        "len(train_img)"
      ],
      "execution_count": 0,
      "outputs": [
        {
          "output_type": "execute_result",
          "data": {
            "text/plain": [
              "6000"
            ]
          },
          "metadata": {
            "tags": []
          },
          "execution_count": 16
        }
      ]
    },
    {
      "cell_type": "code",
      "metadata": {
        "id": "aUnJb6B2Pqal",
        "colab_type": "code",
        "colab": {}
      },
      "source": [
        "val_images_file = '/content/gdrive/My Drive/Sem 6/video_captioning/testings/Flickr8K_Text/Flickr_8k.devImages.txt'\n",
        "val_images = set(open(val_images_file, 'r').read().strip().split('\\n'))"
      ],
      "execution_count": 0,
      "outputs": []
    },
    {
      "cell_type": "code",
      "metadata": {
        "id": "DisZZh1fSDch",
        "colab_type": "code",
        "outputId": "86eb5091-813c-46a8-a1d3-9707c8667116",
        "colab": {
          "base_uri": "https://localhost:8080/",
          "height": 34
        }
      },
      "source": [
        "val_img = split_data(val_images)\n",
        "len(val_img)"
      ],
      "execution_count": 0,
      "outputs": [
        {
          "output_type": "execute_result",
          "data": {
            "text/plain": [
              "1000"
            ]
          },
          "metadata": {
            "tags": []
          },
          "execution_count": 19
        }
      ]
    },
    {
      "cell_type": "code",
      "metadata": {
        "id": "OTbWXN5VSMRn",
        "colab_type": "code",
        "colab": {}
      },
      "source": [
        "test_images_file = '/content/gdrive/My Drive/Sem 6/video_captioning/testings/Flickr8K_Text/Flickr_8k.testImages.txt'\n",
        "test_images = set(open(test_images_file, 'r').read().strip().split('\\n'))"
      ],
      "execution_count": 0,
      "outputs": []
    },
    {
      "cell_type": "code",
      "metadata": {
        "id": "XfF5amM-ST0_",
        "colab_type": "code",
        "outputId": "4d166888-e267-46e8-eb60-0aee16c5cda6",
        "colab": {
          "base_uri": "https://localhost:8080/",
          "height": 34
        }
      },
      "source": [
        "test_img = split_data(test_images)\n",
        "len(test_img)"
      ],
      "execution_count": 0,
      "outputs": [
        {
          "output_type": "execute_result",
          "data": {
            "text/plain": [
              "1000"
            ]
          },
          "metadata": {
            "tags": []
          },
          "execution_count": 21
        }
      ]
    },
    {
      "cell_type": "code",
      "metadata": {
        "id": "fUklPFTjSXWO",
        "colab_type": "code",
        "colab": {}
      },
      "source": [
        "def preprocess_input(x):\n",
        "    x /= 255.\n",
        "    x -= 0.5\n",
        "    x *= 2.\n",
        "    return x"
      ],
      "execution_count": 0,
      "outputs": []
    },
    {
      "cell_type": "code",
      "metadata": {
        "id": "-O7XtUNgTWGT",
        "colab_type": "code",
        "colab": {}
      },
      "source": [
        "def preprocess(image_path):\n",
        "    img = image.load_img(image_path, target_size=(299, 299))\n",
        "    x = image.img_to_array(img)\n",
        "    x = np.expand_dims(x, axis=0)\n",
        "\n",
        "    x = preprocess_input(x)\n",
        "    return x"
      ],
      "execution_count": 0,
      "outputs": []
    },
    {
      "cell_type": "code",
      "metadata": {
        "id": "M2c-nd0MTZ88",
        "colab_type": "code",
        "outputId": "9285abc3-7514-4574-fce5-772a3fffc292",
        "colab": {
          "base_uri": "https://localhost:8080/",
          "height": 121
        }
      },
      "source": [
        "model = InceptionV3(weights='imagenet')"
      ],
      "execution_count": 0,
      "outputs": [
        {
          "output_type": "stream",
          "text": [
            "WARNING:tensorflow:From /usr/local/lib/python3.6/dist-packages/tensorflow/python/framework/op_def_library.py:263: colocate_with (from tensorflow.python.framework.ops) is deprecated and will be removed in a future version.\n",
            "Instructions for updating:\n",
            "Colocations handled automatically by placer.\n",
            "Downloading data from https://github.com/fchollet/deep-learning-models/releases/download/v0.5/inception_v3_weights_tf_dim_ordering_tf_kernels.h5\n",
            "96116736/96112376 [==============================] - 1s 0us/step\n"
          ],
          "name": "stdout"
        }
      ]
    },
    {
      "cell_type": "code",
      "metadata": {
        "id": "60gWURBDTvV9",
        "colab_type": "code",
        "colab": {}
      },
      "source": [
        "train_d = {}\n",
        "for i in train_img:\n",
        "    if i[len(images):] in d:\n",
        "        train_d[i] = d[i[len(images):]]"
      ],
      "execution_count": 0,
      "outputs": []
    },
    {
      "cell_type": "code",
      "metadata": {
        "id": "U156Wroaaxdc",
        "colab_type": "code",
        "colab": {}
      },
      "source": [
        "val_d = {}\n",
        "for i in val_img:\n",
        "    if i[len(images):] in d:\n",
        "        val_d[i] = d[i[len(images):]]"
      ],
      "execution_count": 0,
      "outputs": []
    },
    {
      "cell_type": "code",
      "metadata": {
        "id": "j1GwB3zQa0e2",
        "colab_type": "code",
        "colab": {}
      },
      "source": [
        "test_d = {}\n",
        "for i in test_img:\n",
        "    if i[len(images):] in d:\n",
        "        test_d[i] = d[i[len(images):]]"
      ],
      "execution_count": 0,
      "outputs": []
    },
    {
      "cell_type": "code",
      "metadata": {
        "id": "GwygaIUoa4uS",
        "colab_type": "code",
        "colab": {}
      },
      "source": [
        "caps = []\n",
        "for key, val in train_d.items():\n",
        "    for i in val:\n",
        "        caps.append('<start> ' + i + ' <end>')"
      ],
      "execution_count": 0,
      "outputs": []
    },
    {
      "cell_type": "code",
      "metadata": {
        "id": "uHuk3pOMa8ya",
        "colab_type": "code",
        "colab": {}
      },
      "source": [
        "words = [i.split() for i in caps]"
      ],
      "execution_count": 0,
      "outputs": []
    },
    {
      "cell_type": "code",
      "metadata": {
        "id": "uPVhBAEQa_s8",
        "colab_type": "code",
        "colab": {}
      },
      "source": [
        "unique = []\n",
        "for i in words:\n",
        "    unique.extend(i)"
      ],
      "execution_count": 0,
      "outputs": []
    },
    {
      "cell_type": "code",
      "metadata": {
        "id": "N1OdslwHbDmS",
        "colab_type": "code",
        "colab": {}
      },
      "source": [
        "unique = list(set(unique))"
      ],
      "execution_count": 0,
      "outputs": []
    },
    {
      "cell_type": "code",
      "metadata": {
        "id": "Rv03CgkPbIbo",
        "colab_type": "code",
        "colab": {}
      },
      "source": [
        "unique = pickle.load(open('unique.p', 'rb'))"
      ],
      "execution_count": 0,
      "outputs": []
    },
    {
      "cell_type": "code",
      "metadata": {
        "id": "qLJUPoz3bLFb",
        "colab_type": "code",
        "outputId": "9d2a31b7-c386-4f1d-ecfa-1838656f1717",
        "colab": {
          "base_uri": "https://localhost:8080/",
          "height": 34
        }
      },
      "source": [
        "len(unique)"
      ],
      "execution_count": 0,
      "outputs": [
        {
          "output_type": "execute_result",
          "data": {
            "text/plain": [
              "8256"
            ]
          },
          "metadata": {
            "tags": []
          },
          "execution_count": 36
        }
      ]
    },
    {
      "cell_type": "code",
      "metadata": {
        "id": "Buy96M0JIS4y",
        "colab_type": "code",
        "colab": {}
      },
      "source": [
        ""
      ],
      "execution_count": 0,
      "outputs": []
    }
  ]
}