{
 "cells": [
  {
   "cell_type": "code",
   "execution_count": 1,
   "metadata": {},
   "outputs": [
    {
     "name": "stdout",
     "output_type": "stream",
     "text": [
      "Requirement already satisfied: Keras>=2.0.2 in c:\\users\\krati\\anaconda3\\lib\\site-packages (from -r requirements.txt (line 1)) (2.2.4)\n",
      "Requirement already satisfied: numpy>=1.12.1 in c:\\users\\krati\\anaconda3\\lib\\site-packages (from -r requirements.txt (line 2)) (1.16.2)\n",
      "Collecting pandas>=0.19.2 (from -r requirements.txt (line 3))\n",
      "  Downloading https://files.pythonhosted.org/packages/61/c7/f943fceb712579bc538700e2c157dc4972e16abfe29bd4969149bad98c74/pandas-0.24.2-cp37-cp37m-win_amd64.whl (9.0MB)\n",
      "Requirement already satisfied: tqdm>=4.11.2 in c:\\users\\krati\\anaconda3\\lib\\site-packages (from -r requirements.txt (line 4)) (4.31.1)\n",
      "Collecting matplotlib>=2.0.0 (from -r requirements.txt (line 5))\n",
      "  Downloading https://files.pythonhosted.org/packages/13/ca/8ae32601c1ebe482b140981eedadf8a927de719ca4cecc550b12a4b78f2d/matplotlib-3.0.3-cp37-cp37m-win_amd64.whl (9.1MB)\n",
      "Requirement already satisfied: Pillow>=2.1.0 in c:\\users\\krati\\anaconda3\\lib\\site-packages (from -r requirements.txt (line 6)) (5.4.1)\n",
      "Requirement already satisfied: h5py>=2.7.0 in c:\\users\\krati\\anaconda3\\lib\\site-packages (from -r requirements.txt (line 7)) (2.9.0)\n",
      "Requirement already satisfied: keras-applications>=1.0.6 in c:\\users\\krati\\anaconda3\\lib\\site-packages (from Keras>=2.0.2->-r requirements.txt (line 1)) (1.0.7)\n",
      "Requirement already satisfied: scipy>=0.14 in c:\\users\\krati\\anaconda3\\lib\\site-packages (from Keras>=2.0.2->-r requirements.txt (line 1)) (1.2.1)\n",
      "Requirement already satisfied: keras-preprocessing>=1.0.5 in c:\\users\\krati\\anaconda3\\lib\\site-packages (from Keras>=2.0.2->-r requirements.txt (line 1)) (1.0.9)\n",
      "Requirement already satisfied: pyyaml in c:\\users\\krati\\anaconda3\\lib\\site-packages (from Keras>=2.0.2->-r requirements.txt (line 1)) (5.1)\n",
      "Requirement already satisfied: six>=1.9.0 in c:\\users\\krati\\anaconda3\\lib\\site-packages (from Keras>=2.0.2->-r requirements.txt (line 1)) (1.12.0)\n",
      "Requirement already satisfied: pytz>=2011k in c:\\users\\krati\\anaconda3\\lib\\site-packages (from pandas>=0.19.2->-r requirements.txt (line 3)) (2018.9)\n",
      "Requirement already satisfied: python-dateutil>=2.5.0 in c:\\users\\krati\\anaconda3\\lib\\site-packages (from pandas>=0.19.2->-r requirements.txt (line 3)) (2.8.0)\n",
      "Requirement already satisfied: pyparsing!=2.0.4,!=2.1.2,!=2.1.6,>=2.0.1 in c:\\users\\krati\\anaconda3\\lib\\site-packages (from matplotlib>=2.0.0->-r requirements.txt (line 5)) (2.3.1)\n",
      "Requirement already satisfied: cycler>=0.10 in c:\\users\\krati\\anaconda3\\lib\\site-packages (from matplotlib>=2.0.0->-r requirements.txt (line 5)) (0.10.0)\n",
      "Requirement already satisfied: kiwisolver>=1.0.1 in c:\\users\\krati\\anaconda3\\lib\\site-packages (from matplotlib>=2.0.0->-r requirements.txt (line 5)) (1.0.1)\n",
      "Requirement already satisfied: setuptools in c:\\users\\krati\\anaconda3\\lib\\site-packages (from kiwisolver>=1.0.1->matplotlib>=2.0.0->-r requirements.txt (line 5)) (40.8.0)\n",
      "Installing collected packages: pandas, matplotlib\n",
      "Successfully installed matplotlib-3.0.3 pandas-0.24.2\n",
      "Note: you may need to restart the kernel to use updated packages.\n"
     ]
    }
   ],
   "source": [
    "pip install -r requirements.txt"
   ]
  },
  {
   "cell_type": "code",
   "execution_count": 6,
   "metadata": {},
   "outputs": [
    {
     "name": "stderr",
     "output_type": "stream",
     "text": [
      "'wget' is not recognized as an internal or external command,\n",
      "operable program or batch file.\n"
     ]
    }
   ],
   "source": [
    "!wget http://crcv.ucf.edu/data/UCF101/UCF101.rar"
   ]
  },
  {
   "cell_type": "code",
   "execution_count": 7,
   "metadata": {},
   "outputs": [
    {
     "ename": "SyntaxError",
     "evalue": "invalid syntax (<ipython-input-7-188dd4bd750f>, line 1)",
     "output_type": "error",
     "traceback": [
      "\u001b[1;36m  File \u001b[1;32m\"<ipython-input-7-188dd4bd750f>\"\u001b[1;36m, line \u001b[1;32m1\u001b[0m\n\u001b[1;33m    wget http://crcv.ucf.edu/data/UCF101/UCF101.rar\u001b[0m\n\u001b[1;37m            ^\u001b[0m\n\u001b[1;31mSyntaxError\u001b[0m\u001b[1;31m:\u001b[0m invalid syntax\n"
     ]
    }
   ],
   "source": [
    "wget http://crcv.ucf.edu/data/UCF101/UCF101.rar"
   ]
  },
  {
   "cell_type": "code",
   "execution_count": null,
   "metadata": {},
   "outputs": [],
   "source": []
  }
 ],
 "metadata": {
  "kernelspec": {
   "display_name": "Python 3",
   "language": "python",
   "name": "python3"
  },
  "language_info": {
   "codemirror_mode": {
    "name": "ipython",
    "version": 3
   },
   "file_extension": ".py",
   "mimetype": "text/x-python",
   "name": "python",
   "nbconvert_exporter": "python",
   "pygments_lexer": "ipython3",
   "version": "3.7.3"
  }
 },
 "nbformat": 4,
 "nbformat_minor": 2
}
